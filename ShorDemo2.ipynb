{
 "cells": [
  {
   "cell_type": "code",
   "execution_count": 1,
   "id": "f451ed6e-8a5c-4b9c-aa02-eed58b7d30bf",
   "metadata": {},
   "outputs": [
    {
     "name": "stdout",
     "output_type": "stream",
     "text": [
      "Starting Shor's Algorithm\n",
      "Completed in: 61.8048300743103 seconds\n",
      "The list of unique prime factors of 21 as computed by the Shor's algorithm is [[3, 7]]\n",
      "p = 3\n",
      "q = 7\n",
      "Value of z = 12\n",
      "Possible Values of E\n",
      "[1, 5, 7, 11, 13, 17, 19]\n",
      "\n",
      "Possible values of D based on E chosen\n",
      "E: 1\n",
      "[1, 13]\n",
      "E: 5\n",
      "[5, 17]\n",
      "E: 7\n",
      "[7, 19]\n",
      "E: 11\n",
      "[11]\n",
      "E: 13\n",
      "[1, 13]\n",
      "E: 17\n",
      "[5, 17]\n",
      "E: 19\n",
      "[7, 19]\n"
     ]
    }
   ],
   "source": [
    "import numpy as np\n",
    "import math\n",
    "import time\n",
    "from qiskit import QuantumCircuit, transpile, Aer, IBMQ\n",
    "from qiskit.tools.jupyter import *\n",
    "from qiskit.visualization import *\n",
    "from ibm_quantum_widgets import *\n",
    "from qiskit.utils import QuantumInstance\n",
    "from qiskit.algorithms import Shor\n",
    "\n",
    "# Loading your IBM Quantum account(s)\n",
    "provider = IBMQ.load_account()\n",
    "\n",
    "N = 21\n",
    "\n",
    "backend = Aer.get_backend('qasm_simulator') \n",
    "quantum_instance = QuantumInstance(backend, shots=1024)\n",
    "shor = Shor(quantum_instance)\n",
    "circuit = shor.construct_circuit(N, 2 , True)\n",
    "\n",
    "print(\"Starting Shor's Algorithm\")\n",
    "\n",
    "start = time.time()\n",
    "result = shor.factor(N)\n",
    "end = time.time() - start\n",
    "\n",
    "print(f\"Completed in: {end} seconds\")\n",
    "\n",
    "print(f\"The list of unique prime factors of {N} as computed by the Shor's algorithm is {result.factors}\")\n",
    "\n",
    "p = result.factors[0][0]\n",
    "print(f\"p = {p}\")\n",
    "\n",
    "q = result.factors[0][1]\n",
    "print(f\"q = {q}\")\n",
    "\n",
    "z = (p-1)*(q-1)\n",
    "print('Value of z = ' + str(z))\n",
    "\n",
    "elist = []\n",
    "dlist = []\n",
    "\n",
    "for i in range(1, N): \n",
    "    if math.gcd(i, z) == 1:\n",
    "        elist.append(i)\n",
    "\n",
    "print('Possible Values of E')\n",
    "print(elist)\n",
    "print()\n",
    "print('Possible values of D based on E chosen')\n",
    "\n",
    "for y in range(0, len(elist)):\n",
    "    for x in range(1, N):\n",
    "        if ((elist[y]*x)-1)%z == 0:          \n",
    "            dlist.append(x)\n",
    "    print('E: ' + str(elist[y]))\n",
    "    \n",
    "    print(dlist)\n",
    "    dlist.clear()"
   ]
  },
  {
   "cell_type": "code",
   "execution_count": null,
   "id": "61d3daca-8ecd-4377-a799-446a7e84a770",
   "metadata": {},
   "outputs": [],
   "source": []
  }
 ],
 "metadata": {
  "kernelspec": {
   "display_name": "Qiskit v0.29.0",
   "language": "python",
   "name": "python3"
  },
  "language_info": {
   "codemirror_mode": {
    "name": "ipython",
    "version": 3
   },
   "file_extension": ".py",
   "mimetype": "text/x-python",
   "name": "python",
   "nbconvert_exporter": "python",
   "pygments_lexer": "ipython3",
   "version": "3.8.10"
  },
  "widgets": {
   "application/vnd.jupyter.widget-state+json": {
    "state": {
     "0e8401e725d749b9a667a045c93ec454": {
      "model_module": "@jupyter-widgets/controls",
      "model_module_version": "1.5.0",
      "model_name": "HTMLModel",
      "state": {
       "layout": "IPY_MODEL_d00fc04deb5b41ddb86c1bd49604ad6f",
       "style": "IPY_MODEL_1652e9238657405e86cb9aabea83beb2",
       "value": "<h5>Status</h5>"
      }
     },
     "12fbd222b73943c4afdd53fa100105c4": {
      "model_module": "@jupyter-widgets/controls",
      "model_module_version": "1.5.0",
      "model_name": "HTMLModel",
      "state": {
       "layout": "IPY_MODEL_f22d9a62e5094c7aa2b10c5b36208c71",
       "style": "IPY_MODEL_cfb573028a8c4e109745e8c9bc891654",
       "value": "<h5>Backend</h5>"
      }
     },
     "1652e9238657405e86cb9aabea83beb2": {
      "model_module": "@jupyter-widgets/controls",
      "model_module_version": "1.5.0",
      "model_name": "DescriptionStyleModel",
      "state": {
       "description_width": ""
      }
     },
     "1f97faf26b614aef8cdffb00412710f4": {
      "model_module": "@jupyter-widgets/base",
      "model_module_version": "1.2.0",
      "model_name": "LayoutModel",
      "state": {
       "grid_template_areas": "\n                                       \". . . . right \"\n                                        ",
       "grid_template_columns": "20% 20% 20% 20% 20%",
       "width": "100%"
      }
     },
     "3f8fb6b768b84087bfef2905d3ce46c3": {
      "model_module": "@jupyter-widgets/base",
      "model_module_version": "1.2.0",
      "model_name": "LayoutModel",
      "state": {
       "margin": "0px 0px 0px 37px",
       "width": "600px"
      }
     },
     "4301528bbc6541b28d1221bf9647d7b7": {
      "model_module": "@jupyter-widgets/controls",
      "model_module_version": "1.5.0",
      "model_name": "HBoxModel",
      "state": {
       "children": [
        "IPY_MODEL_609e0eba45bd415086af401f088761cd",
        "IPY_MODEL_12fbd222b73943c4afdd53fa100105c4",
        "IPY_MODEL_0e8401e725d749b9a667a045c93ec454",
        "IPY_MODEL_d5faf9c748a64ff49cc48de792711a50",
        "IPY_MODEL_7f71f2ed33e646b68aea57afea7849cd"
       ],
       "layout": "IPY_MODEL_3f8fb6b768b84087bfef2905d3ce46c3"
      }
     },
     "455c2bc94feb4b92a30e31fd4b4c0b1d": {
      "model_module": "@jupyter-widgets/controls",
      "model_module_version": "1.5.0",
      "model_name": "DescriptionStyleModel",
      "state": {
       "description_width": ""
      }
     },
     "5112b0bec29445c7a5ac0345d48c0257": {
      "model_module": "@jupyter-widgets/base",
      "model_module_version": "1.2.0",
      "model_name": "LayoutModel",
      "state": {
       "grid_area": "right",
       "padding": "0px 0px 0px 0px",
       "width": "70px"
      }
     },
     "5c9d34f4a5f4434ca11e7bba44aca086": {
      "model_module": "@jupyter-widgets/base",
      "model_module_version": "1.2.0",
      "model_name": "LayoutModel",
      "state": {}
     },
     "609e0eba45bd415086af401f088761cd": {
      "model_module": "@jupyter-widgets/controls",
      "model_module_version": "1.5.0",
      "model_name": "HTMLModel",
      "state": {
       "layout": "IPY_MODEL_879da9fe6fd548368cec6570227f4751",
       "style": "IPY_MODEL_c8ee8e1dabe247fc8e2e5355a3728a00",
       "value": "<h5>Job ID</h5>"
      }
     },
     "6d32c9162513448d94917c2b708216c2": {
      "model_module": "@jupyter-widgets/base",
      "model_module_version": "1.2.0",
      "model_name": "LayoutModel",
      "state": {
       "width": "70px"
      }
     },
     "7101f611cf2e4966b38077ffcbffc0cd": {
      "model_module": "@jupyter-widgets/base",
      "model_module_version": "1.2.0",
      "model_name": "LayoutModel",
      "state": {
       "margin": "0px 0px 10px 0px"
      }
     },
     "7f71f2ed33e646b68aea57afea7849cd": {
      "model_module": "@jupyter-widgets/controls",
      "model_module_version": "1.5.0",
      "model_name": "HTMLModel",
      "state": {
       "layout": "IPY_MODEL_5c9d34f4a5f4434ca11e7bba44aca086",
       "style": "IPY_MODEL_455c2bc94feb4b92a30e31fd4b4c0b1d",
       "value": "<h5>Message</h5>"
      }
     },
     "81e12307c934428dab251541badb1e23": {
      "model_module": "@jupyter-widgets/controls",
      "model_module_version": "1.5.0",
      "model_name": "ButtonStyleModel",
      "state": {}
     },
     "879da9fe6fd548368cec6570227f4751": {
      "model_module": "@jupyter-widgets/base",
      "model_module_version": "1.2.0",
      "model_name": "LayoutModel",
      "state": {
       "width": "190px"
      }
     },
     "c1cae72f78984c11ae1cd31827b43f24": {
      "model_module": "@jupyter-widgets/controls",
      "model_module_version": "1.5.0",
      "model_name": "DescriptionStyleModel",
      "state": {
       "description_width": ""
      }
     },
     "c8ee8e1dabe247fc8e2e5355a3728a00": {
      "model_module": "@jupyter-widgets/controls",
      "model_module_version": "1.5.0",
      "model_name": "DescriptionStyleModel",
      "state": {
       "description_width": ""
      }
     },
     "cfb573028a8c4e109745e8c9bc891654": {
      "model_module": "@jupyter-widgets/controls",
      "model_module_version": "1.5.0",
      "model_name": "DescriptionStyleModel",
      "state": {
       "description_width": ""
      }
     },
     "d00fc04deb5b41ddb86c1bd49604ad6f": {
      "model_module": "@jupyter-widgets/base",
      "model_module_version": "1.2.0",
      "model_name": "LayoutModel",
      "state": {
       "width": "95px"
      }
     },
     "d39e5146c56c4b77a6bdf9b9acfc617d": {
      "model_module": "@jupyter-widgets/controls",
      "model_module_version": "1.5.0",
      "model_name": "ButtonModel",
      "state": {
       "button_style": "primary",
       "description": "Clear",
       "layout": "IPY_MODEL_5112b0bec29445c7a5ac0345d48c0257",
       "style": "IPY_MODEL_81e12307c934428dab251541badb1e23"
      }
     },
     "d5faf9c748a64ff49cc48de792711a50": {
      "model_module": "@jupyter-widgets/controls",
      "model_module_version": "1.5.0",
      "model_name": "HTMLModel",
      "state": {
       "layout": "IPY_MODEL_6d32c9162513448d94917c2b708216c2",
       "style": "IPY_MODEL_f219fa6940fb447ba3b5d735ca407d6b",
       "value": "<h5>Queue</h5>"
      }
     },
     "e876cbd9d7924c3abcdf814e8e210ef8": {
      "model_module": "@jupyter-widgets/controls",
      "model_module_version": "1.5.0",
      "model_name": "GridBoxModel",
      "state": {
       "children": [
        "IPY_MODEL_d39e5146c56c4b77a6bdf9b9acfc617d"
       ],
       "layout": "IPY_MODEL_1f97faf26b614aef8cdffb00412710f4"
      }
     },
     "f219fa6940fb447ba3b5d735ca407d6b": {
      "model_module": "@jupyter-widgets/controls",
      "model_module_version": "1.5.0",
      "model_name": "DescriptionStyleModel",
      "state": {
       "description_width": ""
      }
     },
     "f22d9a62e5094c7aa2b10c5b36208c71": {
      "model_module": "@jupyter-widgets/base",
      "model_module_version": "1.2.0",
      "model_name": "LayoutModel",
      "state": {
       "width": "145px"
      }
     },
     "fb51c25946ff49b5b99d98b7ec73aaaa": {
      "model_module": "@jupyter-widgets/controls",
      "model_module_version": "1.5.0",
      "model_name": "HTMLModel",
      "state": {
       "layout": "IPY_MODEL_7101f611cf2e4966b38077ffcbffc0cd",
       "style": "IPY_MODEL_c1cae72f78984c11ae1cd31827b43f24",
       "value": "<p style='font-family: IBM Plex Sans, Arial, Helvetica, sans-serif; font-size: 20px; font-weight: medium;'>Circuit Properties</p>"
      }
     }
    },
    "version_major": 2,
    "version_minor": 0
   }
  }
 },
 "nbformat": 4,
 "nbformat_minor": 5
}
