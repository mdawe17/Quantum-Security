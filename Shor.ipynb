{
 "cells": [
  {
   "cell_type": "code",
   "execution_count": 6,
   "id": "f451ed6e-8a5c-4b9c-aa02-eed58b7d30bf",
   "metadata": {},
   "outputs": [
    {
     "name": "stderr",
     "output_type": "stream",
     "text": [
      "ibmqfactory.load_account:WARNING:2021-08-12 04:14:43,763: Credentials are already in use. The existing account in the session will be replaced.\n"
     ]
    },
    {
     "name": "stdout",
     "output_type": "stream",
     "text": [
      "Starting\n",
      "Shor object created\n",
      "Factoring completed in: 87.70069146156311 seconds\n",
      "The list of factors of 21 as computed by the Shor's algorithm is [[3, 7]]\n",
      "[3, 7] <class 'list'>\n",
      "Successful counts: 24, total counts: 52\n",
      "Computed of qubits for circuit: 22\n",
      "Actual number of qubits of circuit: 22\n"
     ]
    }
   ],
   "source": [
    "import numpy as np\n",
    "import math\n",
    "import time\n",
    "from qiskit import QuantumCircuit, transpile, Aer, IBMQ\n",
    "from qiskit.tools.jupyter import *\n",
    "from qiskit.visualization import *\n",
    "from ibm_quantum_widgets import *\n",
    "from qiskit.utils import QuantumInstance\n",
    "from qiskit.algorithms import Shor\n",
    "\n",
    "# Loading your IBM Quantum account(s)\n",
    "provider = IBMQ.load_account()\n",
    "\n",
    "N = 21\n",
    "\n",
    "backend = Aer.get_backend('qasm_simulator') \n",
    "quantum_instance = QuantumInstance(backend, shots=1024)\n",
    "shor = Shor(quantum_instance)\n",
    "\n",
    "print(\"Starting Shor's Algorithm\")\n",
    "\n",
    "start = time.time()\n",
    "result = shor.factor(N)\n",
    "end = time.time() - start\n",
    "\n",
    "print(f\"Completed in: {end} seconds\")\n",
    "\n",
    "print(f\"The list of unique prime factors of {N} as computed by the Shor's algorithm is {result.factors}\")\n",
    "\n",
    "print(f'Computed number of qubits for circuit: {4 * math.ceil(math.log(N, 2)) + 2}')\n",
    "print(f'Actual number of qubits of circuit: {shor.construct_circuit(N).num_qubits}')"
   ]
  },
  {
   "cell_type": "code",
   "execution_count": null,
   "id": "88887edf-904a-4186-9086-6ae3f458d819",
   "metadata": {},
   "outputs": [],
   "source": []
  }
 ],
 "metadata": {
  "kernelspec": {
   "display_name": "Qiskit v0.29.0",
   "language": "python",
   "name": "python3"
  },
  "language_info": {
   "codemirror_mode": {
    "name": "ipython",
    "version": 3
   },
   "file_extension": ".py",
   "mimetype": "text/x-python",
   "name": "python",
   "nbconvert_exporter": "python",
   "pygments_lexer": "ipython3",
   "version": "3.8.10"
  },
  "widgets": {
   "application/vnd.jupyter.widget-state+json": {
    "state": {
     "062b7d5a0dbd4852a1573abc8fd47517": {
      "model_module": "@jupyter-widgets/controls",
      "model_module_version": "1.5.0",
      "model_name": "HTMLModel",
      "state": {
       "layout": "IPY_MODEL_2cf766d4a25f4ee19aa4d130e03c411a",
       "style": "IPY_MODEL_09a9bd212d3c4fd0a1c6ebfffed2338b",
       "value": "<h5>Message</h5>"
      }
     },
     "09a9bd212d3c4fd0a1c6ebfffed2338b": {
      "model_module": "@jupyter-widgets/controls",
      "model_module_version": "1.5.0",
      "model_name": "DescriptionStyleModel",
      "state": {
       "description_width": ""
      }
     },
     "0e09784e3ace4b1d80de4c3ca7ff96f4": {
      "model_module": "@jupyter-widgets/controls",
      "model_module_version": "1.5.0",
      "model_name": "HBoxModel",
      "state": {
       "children": [
        "IPY_MODEL_d762b8f29a044aeb81d351589f8cbfd4",
        "IPY_MODEL_b56571026e5b4010bf51f95a9036f06a",
        "IPY_MODEL_9a09452027f9423c8be7358dc70934d3",
        "IPY_MODEL_a7ca8f2b6e8f42508bf2de5e11ad0790",
        "IPY_MODEL_062b7d5a0dbd4852a1573abc8fd47517"
       ],
       "layout": "IPY_MODEL_6a688d1422a5416380ebdd13f55050fe"
      }
     },
     "2cf766d4a25f4ee19aa4d130e03c411a": {
      "model_module": "@jupyter-widgets/base",
      "model_module_version": "1.2.0",
      "model_name": "LayoutModel",
      "state": {}
     },
     "2df3d50c2b774439b926dd2a38e42aaf": {
      "model_module": "@jupyter-widgets/controls",
      "model_module_version": "1.5.0",
      "model_name": "ButtonStyleModel",
      "state": {}
     },
     "59b47d5c22ab44c4924c6f7abf52d90f": {
      "model_module": "@jupyter-widgets/base",
      "model_module_version": "1.2.0",
      "model_name": "LayoutModel",
      "state": {
       "grid_template_areas": "\n                                       \". . . . right \"\n                                        ",
       "grid_template_columns": "20% 20% 20% 20% 20%",
       "width": "100%"
      }
     },
     "6a688d1422a5416380ebdd13f55050fe": {
      "model_module": "@jupyter-widgets/base",
      "model_module_version": "1.2.0",
      "model_name": "LayoutModel",
      "state": {
       "margin": "0px 0px 0px 37px",
       "width": "600px"
      }
     },
     "8317d4854ec84d6ebe267882158f4aa3": {
      "model_module": "@jupyter-widgets/controls",
      "model_module_version": "1.5.0",
      "model_name": "DescriptionStyleModel",
      "state": {
       "description_width": ""
      }
     },
     "870df7da378a4d1ba4e5e2dd96e82d1e": {
      "model_module": "@jupyter-widgets/controls",
      "model_module_version": "1.5.0",
      "model_name": "HTMLModel",
      "state": {
       "layout": "IPY_MODEL_e6fe6d6b922149dbbcab47e969619321",
       "style": "IPY_MODEL_8dcdb137cfa14549ad10fd228284719f",
       "value": "<p style='font-family: IBM Plex Sans, Arial, Helvetica, sans-serif; font-size: 20px; font-weight: medium;'>Circuit Properties</p>"
      }
     },
     "8dcdb137cfa14549ad10fd228284719f": {
      "model_module": "@jupyter-widgets/controls",
      "model_module_version": "1.5.0",
      "model_name": "DescriptionStyleModel",
      "state": {
       "description_width": ""
      }
     },
     "98a9c64c2e2747e1912908204924ce3f": {
      "model_module": "@jupyter-widgets/controls",
      "model_module_version": "1.5.0",
      "model_name": "GridBoxModel",
      "state": {
       "children": [
        "IPY_MODEL_e0a7746cd48e4aeea3d11a8eb291f642"
       ],
       "layout": "IPY_MODEL_59b47d5c22ab44c4924c6f7abf52d90f"
      }
     },
     "992e150f57d2472786011e3f15fb4d55": {
      "model_module": "@jupyter-widgets/base",
      "model_module_version": "1.2.0",
      "model_name": "LayoutModel",
      "state": {
       "grid_area": "right",
       "padding": "0px 0px 0px 0px",
       "width": "70px"
      }
     },
     "9a09452027f9423c8be7358dc70934d3": {
      "model_module": "@jupyter-widgets/controls",
      "model_module_version": "1.5.0",
      "model_name": "HTMLModel",
      "state": {
       "layout": "IPY_MODEL_dde47831bfdb4b0f87904b851e801e2f",
       "style": "IPY_MODEL_8317d4854ec84d6ebe267882158f4aa3",
       "value": "<h5>Status</h5>"
      }
     },
     "a7ca8f2b6e8f42508bf2de5e11ad0790": {
      "model_module": "@jupyter-widgets/controls",
      "model_module_version": "1.5.0",
      "model_name": "HTMLModel",
      "state": {
       "layout": "IPY_MODEL_e7ef090249bc40938ceff1259c5ca0b5",
       "style": "IPY_MODEL_a9e39fdf0d964eeab8565aaee90c1198",
       "value": "<h5>Queue</h5>"
      }
     },
     "a9e39fdf0d964eeab8565aaee90c1198": {
      "model_module": "@jupyter-widgets/controls",
      "model_module_version": "1.5.0",
      "model_name": "DescriptionStyleModel",
      "state": {
       "description_width": ""
      }
     },
     "abf953b9fdf84d36bdbba8e67cbae321": {
      "model_module": "@jupyter-widgets/controls",
      "model_module_version": "1.5.0",
      "model_name": "DescriptionStyleModel",
      "state": {
       "description_width": ""
      }
     },
     "b56571026e5b4010bf51f95a9036f06a": {
      "model_module": "@jupyter-widgets/controls",
      "model_module_version": "1.5.0",
      "model_name": "HTMLModel",
      "state": {
       "layout": "IPY_MODEL_f6fa5a2b749740c2851d64bf99792d6c",
       "style": "IPY_MODEL_f1ca8b634efb444f9bb88c1277164d27",
       "value": "<h5>Backend</h5>"
      }
     },
     "cdba4271e4984ceb8857c0f65613c319": {
      "model_module": "@jupyter-widgets/base",
      "model_module_version": "1.2.0",
      "model_name": "LayoutModel",
      "state": {
       "width": "190px"
      }
     },
     "d762b8f29a044aeb81d351589f8cbfd4": {
      "model_module": "@jupyter-widgets/controls",
      "model_module_version": "1.5.0",
      "model_name": "HTMLModel",
      "state": {
       "layout": "IPY_MODEL_cdba4271e4984ceb8857c0f65613c319",
       "style": "IPY_MODEL_abf953b9fdf84d36bdbba8e67cbae321",
       "value": "<h5>Job ID</h5>"
      }
     },
     "dde47831bfdb4b0f87904b851e801e2f": {
      "model_module": "@jupyter-widgets/base",
      "model_module_version": "1.2.0",
      "model_name": "LayoutModel",
      "state": {
       "width": "95px"
      }
     },
     "e0a7746cd48e4aeea3d11a8eb291f642": {
      "model_module": "@jupyter-widgets/controls",
      "model_module_version": "1.5.0",
      "model_name": "ButtonModel",
      "state": {
       "button_style": "primary",
       "description": "Clear",
       "layout": "IPY_MODEL_992e150f57d2472786011e3f15fb4d55",
       "style": "IPY_MODEL_2df3d50c2b774439b926dd2a38e42aaf"
      }
     },
     "e6fe6d6b922149dbbcab47e969619321": {
      "model_module": "@jupyter-widgets/base",
      "model_module_version": "1.2.0",
      "model_name": "LayoutModel",
      "state": {
       "margin": "0px 0px 10px 0px"
      }
     },
     "e7ef090249bc40938ceff1259c5ca0b5": {
      "model_module": "@jupyter-widgets/base",
      "model_module_version": "1.2.0",
      "model_name": "LayoutModel",
      "state": {
       "width": "70px"
      }
     },
     "f1ca8b634efb444f9bb88c1277164d27": {
      "model_module": "@jupyter-widgets/controls",
      "model_module_version": "1.5.0",
      "model_name": "DescriptionStyleModel",
      "state": {
       "description_width": ""
      }
     },
     "f6fa5a2b749740c2851d64bf99792d6c": {
      "model_module": "@jupyter-widgets/base",
      "model_module_version": "1.2.0",
      "model_name": "LayoutModel",
      "state": {
       "width": "145px"
      }
     }
    },
    "version_major": 2,
    "version_minor": 0
   }
  }
 },
 "nbformat": 4,
 "nbformat_minor": 5
}
