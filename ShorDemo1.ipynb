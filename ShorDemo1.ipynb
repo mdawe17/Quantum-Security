{
 "cells": [
  {
   "cell_type": "code",
   "execution_count": 8,
   "id": "f451ed6e-8a5c-4b9c-aa02-eed58b7d30bf",
   "metadata": {},
   "outputs": [
    {
     "name": "stderr",
     "output_type": "stream",
     "text": [
      "ibmqfactory.load_account:WARNING:2021-08-12 21:37:32,122: Credentials are already in use. The existing account in the session will be replaced.\n"
     ]
    },
    {
     "name": "stdout",
     "output_type": "stream",
     "text": [
      "Circuit: \n",
      "         ┌───┐┌──────────────┐┌───────┐┌─┐                           \n",
      "  up_0: ┤ H ├┤0             ├┤0      ├┤M├───────────────────────────\n",
      "        ├───┤│              ││       │└╥┘┌─┐                        \n",
      "  up_1: ┤ H ├┤1             ├┤1      ├─╫─┤M├────────────────────────\n",
      "        ├───┤│              ││       │ ║ └╥┘┌─┐                     \n",
      "  up_2: ┤ H ├┤2             ├┤2      ├─╫──╫─┤M├─────────────────────\n",
      "        ├───┤│              ││       │ ║  ║ └╥┘┌─┐                  \n",
      "  up_3: ┤ H ├┤3             ├┤3      ├─╫──╫──╫─┤M├──────────────────\n",
      "        ├───┤│              ││       │ ║  ║  ║ └╥┘┌─┐               \n",
      "  up_4: ┤ H ├┤4             ├┤4      ├─╫──╫──╫──╫─┤M├───────────────\n",
      "        ├───┤│              ││  IQFT │ ║  ║  ║  ║ └╥┘┌─┐            \n",
      "  up_5: ┤ H ├┤5             ├┤5      ├─╫──╫──╫──╫──╫─┤M├────────────\n",
      "        ├───┤│              ││       │ ║  ║  ║  ║  ║ └╥┘┌─┐         \n",
      "  up_6: ┤ H ├┤6             ├┤6      ├─╫──╫──╫──╫──╫──╫─┤M├─────────\n",
      "        ├───┤│              ││       │ ║  ║  ║  ║  ║  ║ └╥┘┌─┐      \n",
      "  up_7: ┤ H ├┤7             ├┤7      ├─╫──╫──╫──╫──╫──╫──╫─┤M├──────\n",
      "        ├───┤│              ││       │ ║  ║  ║  ║  ║  ║  ║ └╥┘┌─┐   \n",
      "  up_8: ┤ H ├┤8             ├┤8      ├─╫──╫──╫──╫──╫──╫──╫──╫─┤M├───\n",
      "        ├───┤│              ││       │ ║  ║  ║  ║  ║  ║  ║  ║ └╥┘┌─┐\n",
      "  up_9: ┤ H ├┤9             ├┤9      ├─╫──╫──╫──╫──╫──╫──╫──╫──╫─┤M├\n",
      "        ├───┤│              │└───────┘ ║  ║  ║  ║  ║  ║  ║  ║  ║ └╥┘\n",
      "down_0: ┤ X ├┤10            ├──────────╫──╫──╫──╫──╫──╫──╫──╫──╫──╫─\n",
      "        └───┘│   2^x mod 21 │          ║  ║  ║  ║  ║  ║  ║  ║  ║  ║ \n",
      "down_1: ─────┤11            ├──────────╫──╫──╫──╫──╫──╫──╫──╫──╫──╫─\n",
      "             │              │          ║  ║  ║  ║  ║  ║  ║  ║  ║  ║ \n",
      "down_2: ─────┤12            ├──────────╫──╫──╫──╫──╫──╫──╫──╫──╫──╫─\n",
      "             │              │          ║  ║  ║  ║  ║  ║  ║  ║  ║  ║ \n",
      "down_3: ─────┤13            ├──────────╫──╫──╫──╫──╫──╫──╫──╫──╫──╫─\n",
      "             │              │          ║  ║  ║  ║  ║  ║  ║  ║  ║  ║ \n",
      "down_4: ─────┤14            ├──────────╫──╫──╫──╫──╫──╫──╫──╫──╫──╫─\n",
      "             │              │          ║  ║  ║  ║  ║  ║  ║  ║  ║  ║ \n",
      " aux_0: ─────┤15            ├──────────╫──╫──╫──╫──╫──╫──╫──╫──╫──╫─\n",
      "             │              │          ║  ║  ║  ║  ║  ║  ║  ║  ║  ║ \n",
      " aux_1: ─────┤16            ├──────────╫──╫──╫──╫──╫──╫──╫──╫──╫──╫─\n",
      "             │              │          ║  ║  ║  ║  ║  ║  ║  ║  ║  ║ \n",
      " aux_2: ─────┤17            ├──────────╫──╫──╫──╫──╫──╫──╫──╫──╫──╫─\n",
      "             │              │          ║  ║  ║  ║  ║  ║  ║  ║  ║  ║ \n",
      " aux_3: ─────┤18            ├──────────╫──╫──╫──╫──╫──╫──╫──╫──╫──╫─\n",
      "             │              │          ║  ║  ║  ║  ║  ║  ║  ║  ║  ║ \n",
      " aux_4: ─────┤19            ├──────────╫──╫──╫──╫──╫──╫──╫──╫──╫──╫─\n",
      "             │              │          ║  ║  ║  ║  ║  ║  ║  ║  ║  ║ \n",
      " aux_5: ─────┤20            ├──────────╫──╫──╫──╫──╫──╫──╫──╫──╫──╫─\n",
      "             │              │          ║  ║  ║  ║  ║  ║  ║  ║  ║  ║ \n",
      " aux_6: ─────┤21            ├──────────╫──╫──╫──╫──╫──╫──╫──╫──╫──╫─\n",
      "             └──────────────┘          ║  ║  ║  ║  ║  ║  ║  ║  ║  ║ \n",
      "  m: 10/═══════════════════════════════╩══╩══╩══╩══╩══╩══╩══╩══╩══╩═\n",
      "                                       0  1  2  3  4  5  6  7  8  9 \n",
      "Starting Shor's Algorithm\n",
      "Completed in: 61.10565185546875 seconds\n",
      "The list of unique prime factors of 21 as computed by the Shor's algorithm is [[3, 7]]\n",
      "Computed number of qubits for circuit: 22\n",
      "Actual number of qubits of circuit: 22\n"
     ]
    }
   ],
   "source": [
    "import numpy as np\n",
    "import math\n",
    "import time\n",
    "from qiskit import QuantumCircuit, transpile, Aer, IBMQ\n",
    "from qiskit.tools.jupyter import *\n",
    "from qiskit.visualization import *\n",
    "from ibm_quantum_widgets import *\n",
    "from qiskit.utils import QuantumInstance\n",
    "from qiskit.algorithms import Shor\n",
    "\n",
    "# Loading your IBM Quantum account(s)\n",
    "provider = IBMQ.load_account()\n",
    "\n",
    "N = 21\n",
    "\n",
    "backend = Aer.get_backend('qasm_simulator') \n",
    "quantum_instance = QuantumInstance(backend, shots=1024)\n",
    "shor = Shor(quantum_instance)\n",
    "circuit = shor.construct_circuit(N, 2 , True)\n",
    "print(f\"Circuit: \\n {circuit}\")\n",
    "\n",
    "print(\"Starting Shor's Algorithm\")\n",
    "\n",
    "start = time.time()\n",
    "result = shor.factor(N)\n",
    "end = time.time() - start\n",
    "\n",
    "print(f\"Completed in: {end} seconds\")\n",
    "\n",
    "print(f\"The list of unique prime factors of {N} as computed by the Shor's algorithm is {result.factors}\")\n",
    "\n",
    "print(f\"Computed number of qubits for circuit: {4 * math.ceil(math.log(N, 2)) + 2}\")\n",
    "print(f\"Actual number of qubits of circuit: {circuit.num_qubits}\")\n"
   ]
  },
  {
   "cell_type": "code",
   "execution_count": null,
   "id": "61d3daca-8ecd-4377-a799-446a7e84a770",
   "metadata": {},
   "outputs": [],
   "source": []
  }
 ],
 "metadata": {
  "kernelspec": {
   "display_name": "Qiskit v0.29.0",
   "language": "python",
   "name": "python3"
  },
  "language_info": {
   "codemirror_mode": {
    "name": "ipython",
    "version": 3
   },
   "file_extension": ".py",
   "mimetype": "text/x-python",
   "name": "python",
   "nbconvert_exporter": "python",
   "pygments_lexer": "ipython3",
   "version": "3.8.10"
  },
  "widgets": {
   "application/vnd.jupyter.widget-state+json": {
    "state": {},
    "version_major": 2,
    "version_minor": 0
   }
  }
 },
 "nbformat": 4,
 "nbformat_minor": 5
}
